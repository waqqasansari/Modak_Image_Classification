{
  "nbformat": 4,
  "nbformat_minor": 0,
  "metadata": {
    "colab": {
      "name": "Image-Classification.ipynb",
      "provenance": [],
      "collapsed_sections": [],
      "toc_visible": true
    },
    "kernelspec": {
      "name": "python3",
      "display_name": "Python 3"
    },
    "accelerator": "GPU"
  },
  "cells": [
    {
      "cell_type": "code",
      "metadata": {
        "id": "iYfEvht3_pO0",
        "colab_type": "code",
        "colab": {}
      },
      "source": [
        "#Importing first essential libraries\n",
        "\n",
        "import cv2\n",
        "import numpy as np\n",
        "from tqdm import tqdm\n",
        "from random import shuffle\n",
        "import pandas as pd\n",
        "import matplotlib.pyplot as plt\n",
        "import os\n",
        "from keras.preprocessing.image import ImageDataGenerator\n",
        "from keras.preprocessing.image import ImageDataGenerator, array_to_img, img_to_array, load_img\n",
        "from keras.models import Sequential\n",
        "from keras.layers import Conv2D, MaxPooling2D\n",
        "from keras.layers import Activation, Dropout, Flatten, Dense\n"
      ],
      "execution_count": 0,
      "outputs": []
    },
    {
      "cell_type": "code",
      "metadata": {
        "id": "Mey8QAD6N4GV",
        "colab_type": "code",
        "outputId": "74853ca7-e338-4226-89f4-3029de281c18",
        "colab": {
          "base_uri": "https://localhost:8080/",
          "height": 34
        }
      },
      "source": [
        "#Mounting Google Drive\n",
        "\n",
        "from google.colab import drive\n",
        "drive.mount('/content/drive')"
      ],
      "execution_count": 0,
      "outputs": [
        {
          "output_type": "stream",
          "text": [
            "Drive already mounted at /content/drive; to attempt to forcibly remount, call drive.mount(\"/content/drive\", force_remount=True).\n"
          ],
          "name": "stdout"
        }
      ]
    },
    {
      "cell_type": "markdown",
      "metadata": {
        "id": "MitiX8VZZUkN",
        "colab_type": "text"
      },
      "source": [
        "# Loading data"
      ]
    },
    {
      "cell_type": "code",
      "metadata": {
        "id": "4q5udUgJOP0a",
        "colab_type": "code",
        "outputId": "26005727-b239-4e92-c181-f0ab433fdeb6",
        "colab": {
          "base_uri": "https://localhost:8080/",
          "height": 52
        }
      },
      "source": [
        "#load our test and train data\n",
        "\n",
        "batch_size = 64\n",
        "\n",
        "# this is the augmentation configuration we will use for training\n",
        "train_datagen = ImageDataGenerator(\n",
        "        rescale=1./255,\n",
        "        shear_range=0.2,\n",
        "        zoom_range=0.2,\n",
        "        horizontal_flip=True)\n",
        "\n",
        "# this is the augmentation configuration we will use for testing:\n",
        "# only rescaling\n",
        "test_datagen = ImageDataGenerator(rescale=1./255)\n",
        "\n",
        "# this is a generator that will read pictures found in\n",
        "# subfolers of ''/content/drive/My Drive/14W/Train'', and indefinitely generate\n",
        "# batches of augmented image data\n",
        "train_generator = train_datagen.flow_from_directory(\n",
        "        '/content/drive/My Drive/14W/Train',  # this is the target directory\n",
        "        target_size=(150, 150),  # all images will be resized to 150x150\n",
        "        batch_size=batch_size,\n",
        "        class_mode='binary')  # since we use binary_crossentropy loss, we need binary labels\n",
        "\n",
        "# this is a similar generator, for test data\n",
        "test_generator = test_datagen.flow_from_directory(\n",
        "        '/content/drive/My Drive/14W/Test',\n",
        "        target_size=(150, 150),\n",
        "        batch_size=batch_size,\n",
        "        class_mode='binary')"
      ],
      "execution_count": 0,
      "outputs": [
        {
          "output_type": "stream",
          "text": [
            "Found 254 images belonging to 2 classes.\n",
            "Found 64 images belonging to 2 classes.\n"
          ],
          "name": "stdout"
        }
      ]
    },
    {
      "cell_type": "markdown",
      "metadata": {
        "id": "8_Zb6iCPZkUe",
        "colab_type": "text"
      },
      "source": [
        "# Model Building"
      ]
    },
    {
      "cell_type": "code",
      "metadata": {
        "colab_type": "code",
        "id": "08ahTbAqbDPs",
        "colab": {}
      },
      "source": [
        "model = Sequential()\n",
        "model.add(Conv2D(32, (3, 3), input_shape=(150, 150, 3)))\n",
        "model.add(Activation('relu'))\n",
        "model.add(MaxPooling2D(pool_size=(2, 2)))\n",
        "\n",
        "model.add(Conv2D(32, (3, 3)))\n",
        "model.add(Activation('relu'))\n",
        "model.add(MaxPooling2D(pool_size=(2, 2)))\n",
        "model.add(Conv2D(64, (3, 3)))\n",
        "model.add(Activation('relu'))\n",
        "model.add(MaxPooling2D(pool_size=(2, 2)))\n",
        "\n",
        "\n",
        "model.add(Flatten())  # this converts our 3D feature maps to 1D feature vectors\n",
        "model.add(Dense(64))\n",
        "model.add(Activation('relu'))\n",
        "model.add(Dropout(0.5))\n",
        "model.add(Dense(1))\n",
        "model.add(Activation('sigmoid'))\n",
        "\n",
        "model.compile(loss='binary_crossentropy',\n",
        "              optimizer='Adam',\n",
        "              metrics=['accuracy'])"
      ],
      "execution_count": 0,
      "outputs": []
    },
    {
      "cell_type": "markdown",
      "metadata": {
        "id": "aSmMDtK7dvUb",
        "colab_type": "text"
      },
      "source": [
        "# Fit Data"
      ]
    },
    {
      "cell_type": "code",
      "metadata": {
        "id": "TjyKK6PNdzyS",
        "colab_type": "code",
        "outputId": "83d14a57-2ebb-4910-a62a-1d6760788ff4",
        "colab": {
          "base_uri": "https://localhost:8080/",
          "height": 1000
        }
      },
      "source": [
        "model.fit_generator(\n",
        "        train_generator,\n",
        "        steps_per_epoch=2000 // batch_size,\n",
        "        epochs=50,\n",
        "        validation_data=test_generator,\n",
        "        validation_steps=800 // batch_size)\n",
        "model.save_weights('first_try.h5')  # always save your weights after training or during training"
      ],
      "execution_count": 0,
      "outputs": [
        {
          "output_type": "stream",
          "text": [
            "Epoch 1/50\n",
            "31/31 [==============================] - 55s 2s/step - loss: 0.6812 - acc: 0.5984 - val_loss: 0.7003 - val_acc: 0.5156\n",
            "Epoch 2/50\n",
            "31/31 [==============================] - 27s 857ms/step - loss: 0.6096 - acc: 0.6663 - val_loss: 0.8933 - val_acc: 0.4688\n",
            "Epoch 3/50\n",
            "31/31 [==============================] - 26s 841ms/step - loss: 0.5345 - acc: 0.7252 - val_loss: 1.1216 - val_acc: 0.4531\n",
            "Epoch 4/50\n",
            "31/31 [==============================] - 26s 836ms/step - loss: 0.4290 - acc: 0.7990 - val_loss: 1.3498 - val_acc: 0.3594\n",
            "Epoch 5/50\n",
            "31/31 [==============================] - 25s 791ms/step - loss: 0.3194 - acc: 0.8601 - val_loss: 2.3648 - val_acc: 0.4531\n",
            "Epoch 6/50\n",
            "31/31 [==============================] - 27s 856ms/step - loss: 0.2597 - acc: 0.9005 - val_loss: 2.2981 - val_acc: 0.3125\n",
            "Epoch 7/50\n",
            "31/31 [==============================] - 26s 850ms/step - loss: 0.2051 - acc: 0.9198 - val_loss: 2.6344 - val_acc: 0.3125\n",
            "Epoch 8/50\n",
            "31/31 [==============================] - 26s 827ms/step - loss: 0.1608 - acc: 0.9400 - val_loss: 2.6071 - val_acc: 0.2812\n",
            "Epoch 9/50\n",
            "31/31 [==============================] - 24s 776ms/step - loss: 0.1126 - acc: 0.9628 - val_loss: 3.1944 - val_acc: 0.3594\n",
            "Epoch 10/50\n",
            "31/31 [==============================] - 26s 844ms/step - loss: 0.0875 - acc: 0.9691 - val_loss: 3.6018 - val_acc: 0.2812\n",
            "Epoch 11/50\n",
            "31/31 [==============================] - 26s 840ms/step - loss: 0.0743 - acc: 0.9746 - val_loss: 4.0769 - val_acc: 0.3125\n",
            "Epoch 12/50\n",
            "31/31 [==============================] - 26s 841ms/step - loss: 0.0662 - acc: 0.9750 - val_loss: 4.6615 - val_acc: 0.3594\n",
            "Epoch 13/50\n",
            "31/31 [==============================] - 24s 782ms/step - loss: 0.0611 - acc: 0.9803 - val_loss: 3.9983 - val_acc: 0.3281\n",
            "Epoch 14/50\n",
            "31/31 [==============================] - 26s 847ms/step - loss: 0.0574 - acc: 0.9798 - val_loss: 4.1476 - val_acc: 0.3125\n",
            "Epoch 15/50\n",
            "31/31 [==============================] - 26s 840ms/step - loss: 0.0483 - acc: 0.9832 - val_loss: 4.4912 - val_acc: 0.3125\n",
            "Epoch 16/50\n",
            "31/31 [==============================] - 26s 824ms/step - loss: 0.0388 - acc: 0.9863 - val_loss: 5.1954 - val_acc: 0.3438\n",
            "Epoch 17/50\n",
            "31/31 [==============================] - 24s 779ms/step - loss: 0.0485 - acc: 0.9823 - val_loss: 5.5846 - val_acc: 0.2969\n",
            "Epoch 18/50\n",
            "31/31 [==============================] - 27s 856ms/step - loss: 0.0268 - acc: 0.9898 - val_loss: 5.2983 - val_acc: 0.3125\n",
            "Epoch 19/50\n",
            "31/31 [==============================] - 26s 827ms/step - loss: 0.0347 - acc: 0.9858 - val_loss: 5.2318 - val_acc: 0.3125\n",
            "Epoch 20/50\n",
            "31/31 [==============================] - 25s 822ms/step - loss: 0.0424 - acc: 0.9853 - val_loss: 4.9655 - val_acc: 0.3125\n",
            "Epoch 21/50\n",
            "31/31 [==============================] - 24s 779ms/step - loss: 0.0484 - acc: 0.9823 - val_loss: 5.2462 - val_acc: 0.3438\n",
            "Epoch 22/50\n",
            "31/31 [==============================] - 26s 840ms/step - loss: 0.0260 - acc: 0.9913 - val_loss: 6.1661 - val_acc: 0.3281\n",
            "Epoch 23/50\n",
            "31/31 [==============================] - 26s 834ms/step - loss: 0.0244 - acc: 0.9929 - val_loss: 5.3523 - val_acc: 0.4062\n",
            "Epoch 24/50\n",
            "31/31 [==============================] - 26s 831ms/step - loss: 0.0203 - acc: 0.9924 - val_loss: 6.0563 - val_acc: 0.3750\n",
            "Epoch 25/50\n",
            "31/31 [==============================] - 24s 772ms/step - loss: 0.0343 - acc: 0.9893 - val_loss: 5.5714 - val_acc: 0.3750\n",
            "Epoch 26/50\n",
            "31/31 [==============================] - 26s 835ms/step - loss: 0.0303 - acc: 0.9899 - val_loss: 5.1813 - val_acc: 0.3281\n",
            "Epoch 27/50\n",
            "31/31 [==============================] - 26s 840ms/step - loss: 0.0384 - acc: 0.9863 - val_loss: 4.9453 - val_acc: 0.3750\n",
            "Epoch 28/50\n",
            "31/31 [==============================] - 25s 818ms/step - loss: 0.0410 - acc: 0.9852 - val_loss: 4.8816 - val_acc: 0.3594\n",
            "Epoch 29/50\n",
            "31/31 [==============================] - 24s 780ms/step - loss: 0.0180 - acc: 0.9949 - val_loss: 5.7249 - val_acc: 0.2969\n",
            "Epoch 30/50\n",
            "31/31 [==============================] - 26s 853ms/step - loss: 0.0288 - acc: 0.9857 - val_loss: 5.6624 - val_acc: 0.3438\n",
            "Epoch 31/50\n",
            "31/31 [==============================] - 26s 831ms/step - loss: 0.0274 - acc: 0.9909 - val_loss: 6.2691 - val_acc: 0.3594\n",
            "Epoch 32/50\n",
            "31/31 [==============================] - 26s 823ms/step - loss: 0.0538 - acc: 0.9808 - val_loss: 5.1699 - val_acc: 0.3438\n",
            "Epoch 33/50\n",
            "31/31 [==============================] - 24s 763ms/step - loss: 0.0272 - acc: 0.9919 - val_loss: 6.9308 - val_acc: 0.3125\n",
            "Epoch 34/50\n",
            "31/31 [==============================] - 26s 847ms/step - loss: 0.0235 - acc: 0.9924 - val_loss: 6.1116 - val_acc: 0.3281\n",
            "Epoch 35/50\n",
            "31/31 [==============================] - 26s 828ms/step - loss: 0.0124 - acc: 0.9965 - val_loss: 6.8697 - val_acc: 0.2969\n",
            "Epoch 36/50\n",
            "31/31 [==============================] - 26s 827ms/step - loss: 0.0167 - acc: 0.9959 - val_loss: 6.0593 - val_acc: 0.3906\n",
            "Epoch 37/50\n",
            "31/31 [==============================] - 24s 768ms/step - loss: 0.0163 - acc: 0.9954 - val_loss: 6.3908 - val_acc: 0.3281\n",
            "Epoch 38/50\n",
            "31/31 [==============================] - 26s 848ms/step - loss: 0.0129 - acc: 0.9954 - val_loss: 6.4592 - val_acc: 0.3438\n",
            "Epoch 39/50\n",
            "31/31 [==============================] - 26s 834ms/step - loss: 0.0148 - acc: 0.9949 - val_loss: 6.3824 - val_acc: 0.3750\n",
            "Epoch 40/50\n",
            "31/31 [==============================] - 26s 830ms/step - loss: 0.0114 - acc: 0.9960 - val_loss: 6.2937 - val_acc: 0.3750\n",
            "Epoch 41/50\n",
            "31/31 [==============================] - 24s 770ms/step - loss: 0.0064 - acc: 0.9980 - val_loss: 6.6494 - val_acc: 0.3594\n",
            "Epoch 42/50\n",
            "31/31 [==============================] - 26s 853ms/step - loss: 0.0146 - acc: 0.9949 - val_loss: 6.4195 - val_acc: 0.3281\n",
            "Epoch 43/50\n",
            "31/31 [==============================] - 26s 834ms/step - loss: 0.0094 - acc: 0.9975 - val_loss: 6.8570 - val_acc: 0.3125\n",
            "Epoch 44/50\n",
            "31/31 [==============================] - 26s 827ms/step - loss: 0.0131 - acc: 0.9969 - val_loss: 6.5687 - val_acc: 0.3438\n",
            "Epoch 45/50\n",
            "31/31 [==============================] - 24s 761ms/step - loss: 0.0213 - acc: 0.9923 - val_loss: 5.9588 - val_acc: 0.3594\n",
            "Epoch 46/50\n",
            "31/31 [==============================] - 26s 852ms/step - loss: 0.0165 - acc: 0.9949 - val_loss: 6.4597 - val_acc: 0.3438\n",
            "Epoch 47/50\n",
            "31/31 [==============================] - 26s 831ms/step - loss: 0.0173 - acc: 0.9934 - val_loss: 6.9367 - val_acc: 0.2656\n",
            "Epoch 48/50\n",
            "31/31 [==============================] - 26s 831ms/step - loss: 0.0302 - acc: 0.9914 - val_loss: 6.2480 - val_acc: 0.3594\n",
            "Epoch 49/50\n",
            "31/31 [==============================] - 24s 769ms/step - loss: 0.0107 - acc: 0.9954 - val_loss: 6.8025 - val_acc: 0.3594\n",
            "Epoch 50/50\n",
            "31/31 [==============================] - 26s 840ms/step - loss: 0.0125 - acc: 0.9959 - val_loss: 6.6128 - val_acc: 0.3281\n"
          ],
          "name": "stdout"
        }
      ]
    },
    {
      "cell_type": "markdown",
      "metadata": {
        "id": "6NoihCrEBHTl",
        "colab_type": "text"
      },
      "source": [
        "# Evaluation"
      ]
    },
    {
      "cell_type": "code",
      "metadata": {
        "id": "NLsNfKgBBL5L",
        "colab_type": "code",
        "outputId": "b4171906-2b17-4fb7-84eb-fe36517083fe",
        "colab": {
          "base_uri": "https://localhost:8080/",
          "height": 70
        }
      },
      "source": [
        "true_classes = test_generator.classes\n",
        "print(len(true_classes))\n",
        "\n",
        "\n",
        "predictions = model.predict_generator(test_generator)\n",
        "predicted_classes = np.argmax(predictions, axis=1)\n",
        "print(predicted_classes)"
      ],
      "execution_count": 0,
      "outputs": [
        {
          "output_type": "stream",
          "text": [
            "64\n",
            "[0 0 0 0 0 0 0 0 0 0 0 0 0 0 0 0 0 0 0 0 0 0 0 0 0 0 0 0 0 0 0 0 0 0 0 0 0\n",
            " 0 0 0 0 0 0 0 0 0 0 0 0 0 0 0 0 0 0 0 0 0 0 0 0 0 0 0]\n"
          ],
          "name": "stdout"
        }
      ]
    },
    {
      "cell_type": "code",
      "metadata": {
        "id": "qnb896FECeNi",
        "colab_type": "code",
        "colab": {}
      },
      "source": [
        ""
      ],
      "execution_count": 0,
      "outputs": []
    }
  ]
}